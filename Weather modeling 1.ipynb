{
 "cells": [
  {
   "cell_type": "code",
   "execution_count": null,
   "id": "fa23d307-50d2-4fe9-ac67-7d813a27fa1f",
   "metadata": {},
   "outputs": [],
   "source": [
    "a = 1.0     \n",
    "b = -3.0    \n",
    "c = 2.0     \n",
    "x = 4.0         \n",
    "y = a * x**2 + b * x + c\n",
    "print(f\"When x = {x}, y = {y}\")\n",
    "import cmath\n",
    "target_y = 6.0  \n",
    "discriminant = b**2 - 4 * a * (c - target_y)\n",
    "x1 = (-b - cmath.sqrt(discriminant)) / (2 * a)\n",
    "x2 = (-b + cmath.sqrt(discriminant)) / (2 * a)\n",
    "print(f\"Possible x values for y = {target_y}: {x1}, {x2}\")"
   ]
  }
 ],
 "metadata": {
  "kernelspec": {
   "display_name": "Python 3 (ipykernel)",
   "language": "python",
   "name": "python3"
  },
  "language_info": {
   "codemirror_mode": {
    "name": "ipython",
    "version": 3
   },
   "file_extension": ".py",
   "mimetype": "text/x-python",
   "name": "python",
   "nbconvert_exporter": "python",
   "pygments_lexer": "ipython3",
   "version": "3.13.5"
  }
 },
 "nbformat": 4,
 "nbformat_minor": 5
}
