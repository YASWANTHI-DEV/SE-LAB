{
 "cells": [
  {
   "cell_type": "code",
   "execution_count": 1,
   "id": "4b1aa544-57fa-4bf2-967d-9d40550b8bab",
   "metadata": {},
   "outputs": [
    {
     "name": "stdin",
     "output_type": "stream",
     "text": [
      "Enter value for a:  2\n",
      "Enter value for b:  -3\n",
      "Enter value for c:  4\n",
      "Enter a value for x:  6\n"
     ]
    },
    {
     "name": "stdout",
     "output_type": "stream",
     "text": [
      "When x = 6.0, y = 58.0\n"
     ]
    },
    {
     "name": "stdin",
     "output_type": "stream",
     "text": [
      "Enter a value for y to solve for x:  5\n"
     ]
    },
    {
     "name": "stdout",
     "output_type": "stream",
     "text": [
      "Possible x values for y = 5.0: (-0.28077640640441515+0j), (1.7807764064044151+0j)\n"
     ]
    }
   ],
   "source": [
    "a = float(input(\"Enter value for a: \"))\n",
    "b = float(input(\"Enter value for b: \"))\n",
    "c = float(input(\"Enter value for c: \"))\n",
    "x = float(input(\"Enter a value for x: \"))\n",
    "y = a * x**2 + b * x + c\n",
    "print(f\"When x = {x}, y = {y}\")\n",
    "import cmath  \n",
    "target_y = float(input(\"Enter a value for y to solve for x: \"))\n",
    "discriminant = b**2 - 4 * a * (c - target_y)\n",
    "x1 = (-b - cmath.sqrt(discriminant)) / (2 * a)\n",
    "x2 = (-b + cmath.sqrt(discriminant)) / (2 * a)\n",
    "print(f\"Possible x values for y = {target_y}: {x1}, {x2}\")"
   ]
  },
  {
   "cell_type": "code",
   "execution_count": null,
   "id": "63175fef-8037-411b-b617-26d952387eea",
   "metadata": {},
   "outputs": [],
   "source": []
  }
 ],
 "metadata": {
  "kernelspec": {
   "display_name": "Python 3 (ipykernel)",
   "language": "python",
   "name": "python3"
  },
  "language_info": {
   "codemirror_mode": {
    "name": "ipython",
    "version": 3
   },
   "file_extension": ".py",
   "mimetype": "text/x-python",
   "name": "python",
   "nbconvert_exporter": "python",
   "pygments_lexer": "ipython3",
   "version": "3.13.5"
  }
 },
 "nbformat": 4,
 "nbformat_minor": 5
}
