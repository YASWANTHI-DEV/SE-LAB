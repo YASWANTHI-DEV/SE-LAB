{
  "nbformat": 4,
  "nbformat_minor": 0,
  "metadata": {
    "colab": {
      "provenance": []
    },
    "kernelspec": {
      "name": "python3",
      "display_name": "Python 3"
    },
    "language_info": {
      "name": "python"
    }
  },
  "cells": [
    {
      "cell_type": "code",
      "execution_count": 3,
      "metadata": {
        "colab": {
          "base_uri": "https://localhost:8080/"
        },
        "id": "1dswbWzFT3td",
        "outputId": "7aa3bdc3-7431-4853-fb8f-bfee8b76303b"
      },
      "outputs": [
        {
          "output_type": "stream",
          "name": "stdout",
          "text": [
            "Set 1:\n",
            "  Time 1: (5+0j)\n",
            "  Time 2: (-2+0j)\n",
            "\n",
            "Set 2:\n",
            "  Time 1: (-2+0j)\n",
            "  Time 2: (-2+0j)\n",
            "\n",
            "Set 3:\n",
            "  Time 1: (0.5+0j)\n",
            "  Time 2: (-3+0j)\n",
            "\n",
            "\n"
          ]
        }
      ],
      "source": [
        "import cmath\n",
        "\n",
        "def read_multiple_inputs(filename):\n",
        "    with open(filename, 'r') as file:\n",
        "        lines = file.readlines()\n",
        "        return [tuple(map(float, line.strip().split())) for line in lines]\n",
        "\n",
        "def solve_weather_model(a, b, c):\n",
        "    discriminant = cmath.sqrt(b**2 - 4*a*c)\n",
        "    root1 = (-b + discriminant) / (2*a)\n",
        "    root2 = (-b - discriminant) / (2*a)\n",
        "    return root1, root2\n",
        "\n",
        "def write_multiple_outputs(filename, results):\n",
        "    with open(filename, 'w') as file:\n",
        "        for idx, (root1, root2) in enumerate(results, start=1):\n",
        "            file.write(f\"Set {idx}:\\n\")\n",
        "            file.write(f\"  Time 1: {root1}\\n\")\n",
        "            file.write(f\"  Time 2: {root2}\\n\\n\")\n",
        "\n",
        "def main():\n",
        "    inputs = read_multiple_inputs('input.txt')\n",
        "    results = [solve_weather_model(a, b, c) for a, b, c in inputs]\n",
        "    write_multiple_outputs('output.txt', results)\n",
        "    print(open('output.txt').read())  # Show results in notebook\n",
        "\n",
        "main()\n"
      ]
    },
    {
      "cell_type": "code",
      "source": [
        "# Create input.txt for multiple sets\n",
        "with open('input.txt', 'w') as f:\n",
        "    f.write('1 -3 -10\\n')\n",
        "    f.write('1 4 4\\n')\n",
        "    f.write('2 5 -3\\n')\n"
      ],
      "metadata": {
        "id": "GaF6mPkNT5J2"
      },
      "execution_count": 2,
      "outputs": []
    }
  ]
}