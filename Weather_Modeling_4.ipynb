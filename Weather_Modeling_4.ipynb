{
  "nbformat": 4,
  "nbformat_minor": 0,
  "metadata": {
    "colab": {
      "provenance": []
    },
    "kernelspec": {
      "name": "python3",
      "display_name": "Python 3"
    },
    "language_info": {
      "name": "python"
    }
  },
  "cells": [
    {
      "cell_type": "code",
      "execution_count": 6,
      "metadata": {
        "colab": {
          "base_uri": "https://localhost:8080/"
        },
        "id": "90ml0evVScX-",
        "outputId": "3dd77f0a-4137-4822-eec8-5552911e0f5a"
      },
      "outputs": [
        {
          "output_type": "stream",
          "name": "stdout",
          "text": [
            "Weather threshold crossed at:\n",
            "Time 1: (-2+0j)\n",
            "Time 2: (-3+0j)\n",
            "\n"
          ]
        }
      ],
      "source": [
        "import cmath\n",
        "\n",
        "def read_input(filename):\n",
        "    with open(filename, 'r') as file:\n",
        "        a,b,c = map(float, file.readline().strip().split())\n",
        "        return a, b, c\n",
        "\n",
        "def solve_weather_model(a, b, c):\n",
        "    discriminant = cmath.sqrt(b**2 - 4*a*c)\n",
        "    root1 = (-b + discriminant) / (2*a)\n",
        "    root2 = (-b - discriminant) / (2*a)\n",
        "    return root1, root2\n",
        "\n",
        "def write_output(filename, root1, root2):\n",
        "    with open(filename, 'w') as file:\n",
        "        file.write(\"Weather threshold crossed at:\\n\")\n",
        "        file.write(f\"Time 1: {root1}\\n\")\n",
        "        file.write(f\"Time 2: {root2}\\n\")\n",
        "\n",
        "def main():\n",
        "    a, b, c = read_input('input.txt')\n",
        "    root1, root2 = solve_weather_model(a, b, c)\n",
        "    write_output('output.txt', root1, root2)\n",
        "    print(open('output.txt').read())  # Display output\n",
        "\n",
        "main()\n"
      ]
    },
    {
      "cell_type": "code",
      "metadata": {
        "id": "ecd194a4"
      },
      "source": [
        "# Create a dummy input.txt file for testing\n",
        "with open('input.txt', 'w') as f:\n",
        "    f.write('1.0 5.0 6.0')"
      ],
      "execution_count": 7,
      "outputs": []
    }
  ]
}